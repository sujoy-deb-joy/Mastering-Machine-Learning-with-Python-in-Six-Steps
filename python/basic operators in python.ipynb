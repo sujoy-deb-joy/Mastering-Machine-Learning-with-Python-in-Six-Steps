{
 "cells": [
  {
   "cell_type": "markdown",
   "metadata": {},
   "source": [
    "### In Python, operators are the special symbols that can manipulate the value of operands\n",
    "\n",
    " Python language supports the following types of operators:\n",
    " - Arithmetic operators\n",
    " - Comparison or Relational operators\n",
    " - Logical operators\n",
    " - Assignment operators\n",
    " - Bitwise operators\n",
    " - Membership operators\n",
    " - Identity operators\n"
   ]
  },
  {
   "cell_type": "code",
   "execution_count": 6,
   "metadata": {},
   "outputs": [],
   "source": [
    "# Variable x holds 10 and variable y holds 5\n",
    "x = 10\n",
    "y = 5"
   ]
  },
  {
   "cell_type": "code",
   "execution_count": 7,
   "metadata": {},
   "outputs": [
    {
     "name": "stdout",
     "output_type": "stream",
     "text": [
      "Addition, x(10) + y(5) =  15\n"
     ]
    }
   ],
   "source": [
    "# Addition\n",
    "print (\"Addition, x(10) + y(5) = \", x + y)\n"
   ]
  },
  {
   "cell_type": "code",
   "execution_count": 8,
   "metadata": {},
   "outputs": [
    {
     "name": "stdout",
     "output_type": "stream",
     "text": [
      "Subtraction, x(10) - y(5) =  5\n"
     ]
    }
   ],
   "source": [
    "# Subtraction\n",
    "print (\"Subtraction, x(10) - y(5) = \", x - y)"
   ]
  },
  {
   "cell_type": "code",
   "execution_count": 9,
   "metadata": {},
   "outputs": [
    {
     "name": "stdout",
     "output_type": "stream",
     "text": [
      "Multiplication, x(10) * y(5) =  50\n"
     ]
    }
   ],
   "source": [
    "# Multiplication\n",
    "print (\"Multiplication, x(10) * y(5) = \", x * y)"
   ]
  },
  {
   "cell_type": "code",
   "execution_count": 10,
   "metadata": {},
   "outputs": [
    {
     "name": "stdout",
     "output_type": "stream",
     "text": [
      "Division, x(10) / y(5) =  2.0\n"
     ]
    }
   ],
   "source": [
    "# Division\n",
    "print (\"Division, x(10) / y(5) = \",x / y)"
   ]
  },
  {
   "cell_type": "code",
   "execution_count": 11,
   "metadata": {},
   "outputs": [
    {
     "name": "stdout",
     "output_type": "stream",
     "text": [
      "Modulus, x(10) % y(5) =  0\n"
     ]
    }
   ],
   "source": [
    "# Modulus\n",
    "print (\"Modulus, x(10) % y(5) = \", x % y)"
   ]
  },
  {
   "cell_type": "code",
   "execution_count": 12,
   "metadata": {},
   "outputs": [
    {
     "name": "stdout",
     "output_type": "stream",
     "text": [
      "Exponent, x(10)**y(5) =  100000\n"
     ]
    }
   ],
   "source": [
    "# Exponent\n",
    "print (\"Exponent, x(10)**y(5) = \", x**y)\n"
   ]
  },
  {
   "cell_type": "code",
   "execution_count": 13,
   "metadata": {},
   "outputs": [
    {
     "name": "stdout",
     "output_type": "stream",
     "text": [
      "Floor Division, x(10)//y(5) =  2\n"
     ]
    }
   ],
   "source": [
    "# Integer division rounded towards minus infinity\n",
    "print (\"Floor Division, x(10)//y(5) = \", x//y)"
   ]
  },
  {
   "cell_type": "code",
   "execution_count": 14,
   "metadata": {},
   "outputs": [
    {
     "name": "stdout",
     "output_type": "stream",
     "text": [
      "Equal check, x(10) == y(5)  False\n"
     ]
    }
   ],
   "source": [
    "# Equal check operation\n",
    "print (\"Equal check, x(10) == y(5) \", x == y)"
   ]
  },
  {
   "cell_type": "code",
   "execution_count": 15,
   "metadata": {},
   "outputs": [
    {
     "name": "stdout",
     "output_type": "stream",
     "text": [
      "Not Equal check, x(10) != y(5)  True\n"
     ]
    }
   ],
   "source": [
    "# Not Equal check operation\n",
    "print (\"Not Equal check, x(10) != y(5) \", x != y)"
   ]
  },
  {
   "cell_type": "code",
   "execution_count": null,
   "metadata": {},
   "outputs": [],
   "source": []
  },
  {
   "cell_type": "code",
   "execution_count": null,
   "metadata": {},
   "outputs": [],
   "source": []
  },
  {
   "cell_type": "code",
   "execution_count": null,
   "metadata": {},
   "outputs": [],
   "source": []
  },
  {
   "cell_type": "code",
   "execution_count": null,
   "metadata": {},
   "outputs": [],
   "source": []
  },
  {
   "cell_type": "code",
   "execution_count": null,
   "metadata": {},
   "outputs": [],
   "source": []
  }
 ],
 "metadata": {
  "kernelspec": {
   "display_name": "Python 3",
   "language": "python",
   "name": "python3"
  },
  "language_info": {
   "codemirror_mode": {
    "name": "ipython",
    "version": 3
   },
   "file_extension": ".py",
   "mimetype": "text/x-python",
   "name": "python",
   "nbconvert_exporter": "python",
   "pygments_lexer": "ipython3",
   "version": "3.12.4"
  }
 },
 "nbformat": 4,
 "nbformat_minor": 2
}
